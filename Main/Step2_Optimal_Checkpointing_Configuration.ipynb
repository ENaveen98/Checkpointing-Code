{
 "metadata": {
  "language_info": {
   "codemirror_mode": {
    "name": "ipython",
    "version": 3
   },
   "file_extension": ".py",
   "mimetype": "text/x-python",
   "name": "python",
   "nbconvert_exporter": "python",
   "pygments_lexer": "ipython3",
   "version": "3.8.6-final"
  },
  "orig_nbformat": 2,
  "kernelspec": {
   "name": "python3",
   "display_name": "Python 3",
   "language": "python"
  }
 },
 "nbformat": 4,
 "nbformat_minor": 2,
 "cells": [
  {
   "cell_type": "code",
   "execution_count": 1,
   "metadata": {
    "tags": []
   },
   "outputs": [],
   "source": [
    "f = open(\"memory_profiler.log\", \"r\")\n",
    "lines = [line.replace('\\x00','').replace('\\n','') for line in f.readlines()]\n",
    "for i,line in enumerate(lines):\n",
    "    if line.find('FORWARD PASS START') !=-1: start_index = i\n",
    "    if line.find('FORWARD PASS END') !=-1: end_index = i\n",
    "lines = lines[start_index+1:end_index]"
   ]
  },
  {
   "cell_type": "code",
   "execution_count": 6,
   "metadata": {},
   "outputs": [
    {
     "output_type": "stream",
     "name": "stdout",
     "text": [
      "[49.9, 49.4, 0.1, 49.2, 49.0, 49.0, 98.2, 98.0, 98.0, 24.6, 24.5, 24.5, 49.2, 49.0, 49.0, 49.1, 49.0, 49.0, 49.3, 49.0, 49.0, 12.4, 12.3, 12.3, 24.8, 24.5, 24.5, 24.6, 24.5, 24.5, 24.9, 24.5, 24.5, 6.2, 6.1, 6.1, 12.8, 12.3, 12.3, 12.4, 12.3, 12.3, 12.3, 12.3, 12.3, 12.3, 12.3, 12.3, 12.3, 12.3, 12.3, 12.3, 12.3, 12.3, 12.3, 12.3, 12.3, 12.3, 12.3, 12.3, 12.3, 12.3, 12.3, 12.3, 12.3, 12.3, 12.3, 12.3, 12.3, 3.1, 3.1, 3.1, 6.3, 6.1, 6.1, 6.2, 6.1, 6.1, 6.2, 6.1, 6.1, 0.1]\n"
     ]
    }
   ],
   "source": [
    "memory_list = []\n",
    "for line in lines:\n",
    "    line = line[line.find('MiB')+3:]\n",
    "    line = line[:line.find('MiB')]\n",
    "    memory_list.append(float(line.strip()))\n",
    "print(memory_list)"
   ]
  },
  {
   "cell_type": "code",
   "execution_count": 7,
   "metadata": {},
   "outputs": [
    {
     "output_type": "stream",
     "name": "stdout",
     "text": [
      "[' self.conv1(a)', ' self.b1(out)', ' self.relu1(out)', ' self.conv20(out)', ' self.b20(out)', ' self.relu20(out)', ' self.conv21(out)', ' self.b21(out)', ' self.relu21(out)', ' self.conv30(out)', ' self.b30(out)', ' self.relu30(out)', ' self.conv31(out)', ' self.b31(out)', ' self.relu31(out)', ' self.conv40(out)', ' self.b40(out)', ' self.relu40(out)', ' self.conv41(out)', ' self.b41(out)', ' self.relu41(out)', ' self.conv50(out)', ' self.b50(out)', ' self.relu50(out)', ' self.conv51(out)', ' self.b51(out)', ' self.relu51(out)', ' self.conv60(out)', ' self.b60(out)', ' self.relu60(out)', ' self.conv61(out)', ' self.b61(out)', ' self.relu61(out)', ' self.conv70(out)', ' self.b70(out)', ' self.relu70(out)', ' self.conv71(out)', ' self.b71(out)', ' self.relu71(out)', ' self.conv80(out)', ' self.b80(out)', ' self.relu80(out)', ' self.conv81(out)', ' self.b81(out)', ' self.relu81(out)', ' self.conv90(out)', ' self.b90(out)', ' self.relu90(out)', ' self.conv91(out)', ' self.b91(out)', ' self.relu91(out)', ' self.conv100(out)', ' self.b100(out)', ' self.relu100(out)', ' self.conv101(out)', ' self.b101(out)', ' self.relu101(out)', ' self.conv110(out)', ' self.b110(out)', ' self.relu110(out)', ' self.conv111(out)', ' self.b111(out)', ' self.relu111(out)', ' self.conv120(out)', ' self.b120(out)', ' self.relu120(out)', ' self.conv121(out)', ' self.b121(out)', ' self.relu121(out)', ' self.conv130(out)', ' self.b130(out)', ' self.relu130(out)', ' self.conv131(out)', ' self.b131(out)', ' self.relu131(out)', ' self.conv140(out)', ' self.b140(out)', ' self.relu140(out)', ' self.conv141(out)', ' self.b141(out)', ' self.relu141(out)', ' self.avgpl(out)']\n"
     ]
    }
   ],
   "source": [
    "layer_list = []\n",
    "for line in lines:\n",
    "    line = line[line.find('MiB')+3:]\n",
    "    layer_list.append(line.split('=')[1])\n",
    "print(layer_list)"
   ]
  },
  {
   "source": [
    "### Note: The output for the above two cells for your Neural Network should be as shown below\n",
    "### print(memory_list)\n",
    "\\[49.9, 49.4, 0.1, 49.2, 49.0, 49.0, 98.2, 98.0, 98.0, 24.6, 24.5, 24.5, 49.2, 49.0, 49.0, 49.1, 49.0, 49.0, 49.3, 49.0, 49.0, 12.4, 12.3, 12.3, 24.8, 24.5, 24.5, 24.6, 24.5, 24.5, 24.9, 24.5, 24.5, 6.2, 6.1, 6.1, 12.8, 12.3, 12.3, 12.4, 12.3, 12.3, 12.3, 12.3, 12.3, 12.3, 12.3, 12.3, 12.3, 12.3, 12.3, 12.3, 12.3, 12.3, 12.3, 12.3, 12.3, 12.3, 12.3, 12.3, 12.3, 12.3, 12.3, 12.3, 12.3, 12.3, 12.3, 12.3, 12.3, 3.1, 3.1, 3.1, 6.3, 6.1, 6.1, 6.2, 6.1, 6.1, 6.2, 6.1, 6.1, 0.1\\]\n",
    "### print(layer_list)\n",
    "\\[' self.conv1(a)', ' self.b1(out)', ' self.relu1(out)', ' self.conv20(out)', ' self.b20(out)', ' self.relu20(out)', ' self.conv21(out)', ' self.b21(out)', ' self.relu21(out)', ' self.conv30(out)', ' self.b30(out)', ' self.relu30(out)', ' self.conv31(out)', ' self.b31(out)', ' self.relu31(out)', ' self.conv40(out)', ' self.b40(out)', ' self.relu40(out)', ' self.conv41(out)', ' self.b41(out)', ' self.relu41(out)', ' self.conv50(out)', ' self.b50(out)', ' self.relu50(out)', ' self.conv51(out)', ' self.b51(out)', ' self.relu51(out)', ' self.conv60(out)', ' self.b60(out)', ' self.relu60(out)', ' self.conv61(out)', ' self.b61(out)', ' self.relu61(out)', ' self.conv70(out)', ' self.b70(out)', ' self.relu70(out)', ' self.conv71(out)', ' self.b71(out)', ' self.relu71(out)', ' self.conv80(out)', ' self.b80(out)', ' self.relu80(out)', ' self.conv81(out)', ' self.b81(out)', ' self.relu81(out)', ' self.conv90(out)', ' self.b90(out)', ' self.relu90(out)', ' self.conv91(out)', ' self.b91(out)', ' self.relu91(out)', ' self.conv100(out)', ' self.b100(out)', ' self.relu100(out)', ' self.conv101(out)', ' self.b101(out)', ' self.relu101(out)', ' self.conv110(out)', ' self.b110(out)', ' self.relu110(out)', ' self.conv111(out)', ' self.b111(out)', ' self.relu111(out)', ' self.conv120(out)', ' self.b120(out)', ' self.relu120(out)', ' self.conv121(out)', ' self.b121(out)', ' self.relu121(out)', ' self.conv130(out)', ' self.b130(out)', ' self.relu130(out)', ' self.conv131(out)', ' self.b131(out)', ' self.relu131(out)', ' self.conv140(out)', ' self.b140(out)', ' self.relu140(out)', ' self.conv141(out)', ' self.b141(out)', ' self.relu141(out)', ' self.avgpl(out)'\\]\n",
    "### If the file was not parsed properly or the output is not as expected please compile the memory_list and layer_list manually using the memory_profiler provided in Step1 or using any other technique."
   ],
   "cell_type": "markdown",
   "metadata": {}
  },
  {
   "cell_type": "code",
   "execution_count": 10,
   "metadata": {},
   "outputs": [
    {
     "output_type": "stream",
     "name": "stdout",
     "text": [
      "\nn_checkpoints = 2\nmax_segment_memory + optimal_initial_pass_memory = 896.0 + 49.0 = 945.0\nCheckpoint indices= [17, 80]\n\nn_checkpoints = 3\nmax_segment_memory + optimal_initial_pass_memory = 590.0 + 49.0 = 639.0\nCheckpoint indices= [11, 28]\n\nn_checkpoints = 4\nmax_segment_memory + optimal_initial_pass_memory = 443.0 + 159.3 = 602.3\nCheckpoint indices= [7, 17, 37, 80]\n\nn_checkpoints = 5\nmax_segment_memory + optimal_initial_pass_memory = 345.0 + 183.9 = 528.9\nCheckpoint indices= [6, 13, 21, 42, 74]\n\nn_checkpoints = 6\nmax_segment_memory + optimal_initial_pass_memory = 278.0 + 233.5 = 511.5\nCheckpoint indices= [6, 12, 18, 29, 51]\n\nn_checkpoints = 7\nmax_segment_memory + optimal_initial_pass_memory = 241.0 + 281.9 = 522.9\nCheckpoint indices= [5, 8, 15, 20, 32, 54]\n\nn_checkpoints = 8\nmax_segment_memory + optimal_initial_pass_memory = 198.0 + 294.1 = 492.1\nCheckpoint indices= [5, 8, 14, 19, 28, 42, 59]\n\nn_checkpoints = 9\nmax_segment_memory + optimal_initial_pass_memory = 185.0 + 343.7 = 528.7\nCheckpoint indices= [4, 7, 12, 16, 20, 29, 43, 58, 80]\n\nn_checkpoints = 10\nmax_segment_memory + optimal_initial_pass_memory = 155.0 + 324.8 = 479.8\nCheckpoint indices= [4, 7, 11, 15, 19, 26, 34, 48, 61]\n\nn_checkpoints = 11\nmax_segment_memory + optimal_initial_pass_memory = 148.0 + 417.2 = 565.2\nCheckpoint indices= [3, 6, 8, 13, 17, 21, 29, 40, 53, 66]\n\nn_checkpoints = 12\nmax_segment_memory + optimal_initial_pass_memory = 123.0 + 478.3 = 601.3\nCheckpoint indices= [3, 6, 8, 13, 16, 19, 25, 31, 42, 53, 64]\n\nn_checkpoints = 13\nmax_segment_memory + optimal_initial_pass_memory = 112.0 + 472.8 = 584.8\nCheckpoint indices= [3, 6, 8, 12, 15, 18, 22, 28, 35, 44, 54, 64, 80]\n\nn_checkpoints = 14\nmax_segment_memory + optimal_initial_pass_memory = 100.0 + 494.5 = 594.5\nCheckpoint indices= [3, 6, 8, 12, 15, 18, 21, 27, 32, 42, 51, 60, 69]\n\nn_checkpoints = 15\nmax_segment_memory + optimal_initial_pass_memory = 99.0 + 473.1 = 572.1\nCheckpoint indices= [1, 5, 7, 9, 13, 16, 19, 24, 29, 36, 45, 54, 63, 76]\n\nn_checkpoints = 16\nmax_segment_memory + optimal_initial_pass_memory = 99.0 + 473.1 = 572.1\nCheckpoint indices= [1, 5, 7, 9, 13, 16, 19, 24, 29, 36, 45, 54, 63, 76]\n\nn_checkpoints = 17\nmax_segment_memory + optimal_initial_pass_memory = 99.0 + 473.1 = 572.1\nCheckpoint indices= [1, 5, 7, 9, 13, 16, 19, 24, 29, 36, 45, 54, 63, 76]\n\nn_checkpoints = 18\nmax_segment_memory + optimal_initial_pass_memory = 99.0 + 473.1 = 572.1\nCheckpoint indices= [1, 5, 7, 9, 13, 16, 19, 24, 29, 36, 45, 54, 63, 76]\n\nn_checkpoints = 19\nmax_segment_memory + optimal_initial_pass_memory = 99.0 + 473.1 = 572.1\nCheckpoint indices= [1, 5, 7, 9, 13, 16, 19, 24, 29, 36, 45, 54, 63, 76]\n\nn_checkpoints = 20\nmax_segment_memory + optimal_initial_pass_memory = 99.0 + 473.1 = 572.1\nCheckpoint indices= [1, 5, 7, 9, 13, 16, 19, 24, 29, 36, 45, 54, 63, 76]\n\nn_checkpoints = 21\nmax_segment_memory + optimal_initial_pass_memory = 99.0 + 473.1 = 572.1\nCheckpoint indices= [1, 5, 7, 9, 13, 16, 19, 24, 29, 36, 45, 54, 63, 76]\n\nn_checkpoints = 22\nmax_segment_memory + optimal_initial_pass_memory = 99.0 + 473.1 = 572.1\nCheckpoint indices= [1, 5, 7, 9, 13, 16, 19, 24, 29, 36, 45, 54, 63, 76]\n\nn_checkpoints = 23\nmax_segment_memory + optimal_initial_pass_memory = 99.0 + 473.1 = 572.1\nCheckpoint indices= [1, 5, 7, 9, 13, 16, 19, 24, 29, 36, 45, 54, 63, 76]\n\nn_checkpoints = 24\nmax_segment_memory + optimal_initial_pass_memory = 99.0 + 473.1 = 572.1\nCheckpoint indices= [1, 5, 7, 9, 13, 16, 19, 24, 29, 36, 45, 54, 63, 76]\n\nn_checkpoints = 25\nmax_segment_memory + optimal_initial_pass_memory = 99.0 + 473.1 = 572.1\nCheckpoint indices= [1, 5, 7, 9, 13, 16, 19, 24, 29, 36, 45, 54, 63, 76]\n\nn_checkpoints = 26\nmax_segment_memory + optimal_initial_pass_memory = 99.0 + 473.1 = 572.1\nCheckpoint indices= [1, 5, 7, 9, 13, 16, 19, 24, 29, 36, 45, 54, 63, 76]\n\nn_checkpoints = 27\nmax_segment_memory + optimal_initial_pass_memory = 99.0 + 473.1 = 572.1\nCheckpoint indices= [1, 5, 7, 9, 13, 16, 19, 24, 29, 36, 45, 54, 63, 76]\n\nn_checkpoints = 28\nmax_segment_memory + optimal_initial_pass_memory = 99.0 + 473.1 = 572.1\nCheckpoint indices= [1, 5, 7, 9, 13, 16, 19, 24, 29, 36, 45, 54, 63, 76]\n\nn_checkpoints = 29\nmax_segment_memory + optimal_initial_pass_memory = 99.0 + 473.1 = 572.1\nCheckpoint indices= [1, 5, 7, 9, 13, 16, 19, 24, 29, 36, 45, 54, 63, 76]\n\nn_checkpoints = 30\nmax_segment_memory + optimal_initial_pass_memory = 99.0 + 473.1 = 572.1\nCheckpoint indices= [1, 5, 7, 9, 13, 16, 19, 24, 29, 36, 45, 54, 63, 76]\n\nn_checkpoints = 31\nmax_segment_memory + optimal_initial_pass_memory = 99.0 + 473.1 = 572.1\nCheckpoint indices= [1, 5, 7, 9, 13, 16, 19, 24, 29, 36, 45, 54, 63, 76]\n\nn_checkpoints = 32\nmax_segment_memory + optimal_initial_pass_memory = 99.0 + 473.1 = 572.1\nCheckpoint indices= [1, 5, 7, 9, 13, 16, 19, 24, 29, 36, 45, 54, 63, 76]\n\nn_checkpoints = 33\nmax_segment_memory + optimal_initial_pass_memory = 99.0 + 473.1 = 572.1\nCheckpoint indices= [1, 5, 7, 9, 13, 16, 19, 24, 29, 36, 45, 54, 63, 76]\n\nn_checkpoints = 34\nmax_segment_memory + optimal_initial_pass_memory = 99.0 + 473.1 = 572.1\nCheckpoint indices= [1, 5, 7, 9, 13, 16, 19, 24, 29, 36, 45, 54, 63, 76]\n\nn_checkpoints = 35\nmax_segment_memory + optimal_initial_pass_memory = 99.0 + 473.1 = 572.1\nCheckpoint indices= [1, 5, 7, 9, 13, 16, 19, 24, 29, 36, 45, 54, 63, 76]\n\nn_checkpoints = 36\nmax_segment_memory + optimal_initial_pass_memory = 99.0 + 473.1 = 572.1\nCheckpoint indices= [1, 5, 7, 9, 13, 16, 19, 24, 29, 36, 45, 54, 63, 76]\n\nn_checkpoints = 37\nmax_segment_memory + optimal_initial_pass_memory = 99.0 + 473.1 = 572.1\nCheckpoint indices= [1, 5, 7, 9, 13, 16, 19, 24, 29, 36, 45, 54, 63, 76]\n\nn_checkpoints = 38\nmax_segment_memory + optimal_initial_pass_memory = 99.0 + 473.1 = 572.1\nCheckpoint indices= [1, 5, 7, 9, 13, 16, 19, 24, 29, 36, 45, 54, 63, 76]\n\nn_checkpoints = 39\nmax_segment_memory + optimal_initial_pass_memory = 99.0 + 473.1 = 572.1\nCheckpoint indices= [1, 5, 7, 9, 13, 16, 19, 24, 29, 36, 45, 54, 63, 76]\n\nn_checkpoints = 40\nmax_segment_memory + optimal_initial_pass_memory = 99.0 + 473.1 = 572.1\nCheckpoint indices= [1, 5, 7, 9, 13, 16, 19, 24, 29, 36, 45, 54, 63, 76]\n\nn_checkpoints = 41\nmax_segment_memory + optimal_initial_pass_memory = 99.0 + 473.1 = 572.1\nCheckpoint indices= [1, 5, 7, 9, 13, 16, 19, 24, 29, 36, 45, 54, 63, 76]\n\nn_checkpoints = 42\nmax_segment_memory + optimal_initial_pass_memory = 99.0 + 473.1 = 572.1\nCheckpoint indices= [1, 5, 7, 9, 13, 16, 19, 24, 29, 36, 45, 54, 63, 76]\n\nn_checkpoints = 43\nmax_segment_memory + optimal_initial_pass_memory = 99.0 + 473.1 = 572.1\nCheckpoint indices= [1, 5, 7, 9, 13, 16, 19, 24, 29, 36, 45, 54, 63, 76]\n\nn_checkpoints = 44\nmax_segment_memory + optimal_initial_pass_memory = 99.0 + 473.1 = 572.1\nCheckpoint indices= [1, 5, 7, 9, 13, 16, 19, 24, 29, 36, 45, 54, 63, 76]\n\nn_checkpoints = 45\nmax_segment_memory + optimal_initial_pass_memory = 99.0 + 473.1 = 572.1\nCheckpoint indices= [1, 5, 7, 9, 13, 16, 19, 24, 29, 36, 45, 54, 63, 76]\n\nn_checkpoints = 46\nmax_segment_memory + optimal_initial_pass_memory = 99.0 + 473.1 = 572.1\nCheckpoint indices= [1, 5, 7, 9, 13, 16, 19, 24, 29, 36, 45, 54, 63, 76]\n\nn_checkpoints = 47\nmax_segment_memory + optimal_initial_pass_memory = 99.0 + 473.1 = 572.1\nCheckpoint indices= [1, 5, 7, 9, 13, 16, 19, 24, 29, 36, 45, 54, 63, 76]\n\nn_checkpoints = 48\nmax_segment_memory + optimal_initial_pass_memory = 99.0 + 473.1 = 572.1\nCheckpoint indices= [1, 5, 7, 9, 13, 16, 19, 24, 29, 36, 45, 54, 63, 76]\n\nn_checkpoints = 49\nmax_segment_memory + optimal_initial_pass_memory = 99.0 + 473.1 = 572.1\nCheckpoint indices= [1, 5, 7, 9, 13, 16, 19, 24, 29, 36, 45, 54, 63, 76]\n\nn_checkpoints = 50\nmax_segment_memory + optimal_initial_pass_memory = 99.0 + 473.1 = 572.1\nCheckpoint indices= [1, 5, 7, 9, 13, 16, 19, 24, 29, 36, 45, 54, 63, 76]\n\nn_checkpoints = 51\nmax_segment_memory + optimal_initial_pass_memory = 99.0 + 473.1 = 572.1\nCheckpoint indices= [1, 5, 7, 9, 13, 16, 19, 24, 29, 36, 45, 54, 63, 76]\n\nn_checkpoints = 52\nmax_segment_memory + optimal_initial_pass_memory = 99.0 + 473.1 = 572.1\nCheckpoint indices= [1, 5, 7, 9, 13, 16, 19, 24, 29, 36, 45, 54, 63, 76]\n\nn_checkpoints = 53\nmax_segment_memory + optimal_initial_pass_memory = 99.0 + 473.1 = 572.1\nCheckpoint indices= [1, 5, 7, 9, 13, 16, 19, 24, 29, 36, 45, 54, 63, 76]\n\nn_checkpoints = 54\nmax_segment_memory + optimal_initial_pass_memory = 99.0 + 473.1 = 572.1\nCheckpoint indices= [1, 5, 7, 9, 13, 16, 19, 24, 29, 36, 45, 54, 63, 76]\n\nn_checkpoints = 55\nmax_segment_memory + optimal_initial_pass_memory = 99.0 + 473.1 = 572.1\nCheckpoint indices= [1, 5, 7, 9, 13, 16, 19, 24, 29, 36, 45, 54, 63, 76]\n\nn_checkpoints = 56\nmax_segment_memory + optimal_initial_pass_memory = 99.0 + 473.1 = 572.1\nCheckpoint indices= [1, 5, 7, 9, 13, 16, 19, 24, 29, 36, 45, 54, 63, 76]\n\nn_checkpoints = 57\nmax_segment_memory + optimal_initial_pass_memory = 99.0 + 473.1 = 572.1\nCheckpoint indices= [1, 5, 7, 9, 13, 16, 19, 24, 29, 36, 45, 54, 63, 76]\n\nn_checkpoints = 58\nmax_segment_memory + optimal_initial_pass_memory = 99.0 + 473.1 = 572.1\nCheckpoint indices= [1, 5, 7, 9, 13, 16, 19, 24, 29, 36, 45, 54, 63, 76]\n\nn_checkpoints = 59\nmax_segment_memory + optimal_initial_pass_memory = 99.0 + 473.1 = 572.1\nCheckpoint indices= [1, 5, 7, 9, 13, 16, 19, 24, 29, 36, 45, 54, 63, 76]\n\nn_checkpoints = 60\nmax_segment_memory + optimal_initial_pass_memory = 99.0 + 473.1 = 572.1\nCheckpoint indices= [1, 5, 7, 9, 13, 16, 19, 24, 29, 36, 45, 54, 63, 76]\n\nn_checkpoints = 61\nmax_segment_memory + optimal_initial_pass_memory = 99.0 + 473.1 = 572.1\nCheckpoint indices= [1, 5, 7, 9, 13, 16, 19, 24, 29, 36, 45, 54, 63, 76]\n\nn_checkpoints = 62\nmax_segment_memory + optimal_initial_pass_memory = 99.0 + 473.1 = 572.1\nCheckpoint indices= [1, 5, 7, 9, 13, 16, 19, 24, 29, 36, 45, 54, 63, 76]\n\nn_checkpoints = 63\nmax_segment_memory + optimal_initial_pass_memory = 99.0 + 473.1 = 572.1\nCheckpoint indices= [1, 5, 7, 9, 13, 16, 19, 24, 29, 36, 45, 54, 63, 76]\n\nn_checkpoints = 64\nmax_segment_memory + optimal_initial_pass_memory = 99.0 + 473.1 = 572.1\nCheckpoint indices= [1, 5, 7, 9, 13, 16, 19, 24, 29, 36, 45, 54, 63, 76]\n\nn_checkpoints = 65\nmax_segment_memory + optimal_initial_pass_memory = 99.0 + 473.1 = 572.1\nCheckpoint indices= [1, 5, 7, 9, 13, 16, 19, 24, 29, 36, 45, 54, 63, 76]\n\nn_checkpoints = 66\nmax_segment_memory + optimal_initial_pass_memory = 99.0 + 473.1 = 572.1\nCheckpoint indices= [1, 5, 7, 9, 13, 16, 19, 24, 29, 36, 45, 54, 63, 76]\n\nn_checkpoints = 67\nmax_segment_memory + optimal_initial_pass_memory = 99.0 + 473.1 = 572.1\nCheckpoint indices= [1, 5, 7, 9, 13, 16, 19, 24, 29, 36, 45, 54, 63, 76]\n\nn_checkpoints = 68\nmax_segment_memory + optimal_initial_pass_memory = 99.0 + 473.1 = 572.1\nCheckpoint indices= [1, 5, 7, 9, 13, 16, 19, 24, 29, 36, 45, 54, 63, 76]\n\nn_checkpoints = 69\nmax_segment_memory + optimal_initial_pass_memory = 99.0 + 473.1 = 572.1\nCheckpoint indices= [1, 5, 7, 9, 13, 16, 19, 24, 29, 36, 45, 54, 63, 76]\n\nn_checkpoints = 70\nmax_segment_memory + optimal_initial_pass_memory = 99.0 + 473.1 = 572.1\nCheckpoint indices= [1, 5, 7, 9, 13, 16, 19, 24, 29, 36, 45, 54, 63, 76]\n\nn_checkpoints = 71\nmax_segment_memory + optimal_initial_pass_memory = 99.0 + 473.1 = 572.1\nCheckpoint indices= [1, 5, 7, 9, 13, 16, 19, 24, 29, 36, 45, 54, 63, 76]\n\nn_checkpoints = 72\nmax_segment_memory + optimal_initial_pass_memory = 99.0 + 473.1 = 572.1\nCheckpoint indices= [1, 5, 7, 9, 13, 16, 19, 24, 29, 36, 45, 54, 63, 76]\n\nn_checkpoints = 73\nmax_segment_memory + optimal_initial_pass_memory = 99.0 + 473.1 = 572.1\nCheckpoint indices= [1, 5, 7, 9, 13, 16, 19, 24, 29, 36, 45, 54, 63, 76]\n\nn_checkpoints = 74\nmax_segment_memory + optimal_initial_pass_memory = 99.0 + 473.1 = 572.1\nCheckpoint indices= [1, 5, 7, 9, 13, 16, 19, 24, 29, 36, 45, 54, 63, 76]\n\nn_checkpoints = 75\nmax_segment_memory + optimal_initial_pass_memory = 99.0 + 473.1 = 572.1\nCheckpoint indices= [1, 5, 7, 9, 13, 16, 19, 24, 29, 36, 45, 54, 63, 76]\n\nn_checkpoints = 76\nmax_segment_memory + optimal_initial_pass_memory = 99.0 + 473.1 = 572.1\nCheckpoint indices= [1, 5, 7, 9, 13, 16, 19, 24, 29, 36, 45, 54, 63, 76]\n\nn_checkpoints = 77\nmax_segment_memory + optimal_initial_pass_memory = 99.0 + 473.1 = 572.1\nCheckpoint indices= [1, 5, 7, 9, 13, 16, 19, 24, 29, 36, 45, 54, 63, 76]\n\nn_checkpoints = 78\nmax_segment_memory + optimal_initial_pass_memory = 99.0 + 473.1 = 572.1\nCheckpoint indices= [1, 5, 7, 9, 13, 16, 19, 24, 29, 36, 45, 54, 63, 76]\n\nn_checkpoints = 79\nmax_segment_memory + optimal_initial_pass_memory = 99.0 + 473.1 = 572.1\nCheckpoint indices= [1, 5, 7, 9, 13, 16, 19, 24, 29, 36, 45, 54, 63, 76]\n\nn_checkpoints = 80\nmax_segment_memory + optimal_initial_pass_memory = 99.0 + 473.1 = 572.1\nCheckpoint indices= [1, 5, 7, 9, 13, 16, 19, 24, 29, 36, 45, 54, 63, 76]\n\nn_checkpoints = 81\nmax_segment_memory + optimal_initial_pass_memory = 99.0 + 473.1 = 572.1\nCheckpoint indices= [1, 5, 7, 9, 13, 16, 19, 24, 29, 36, 45, 54, 63, 76]\n"
     ]
    }
   ],
   "source": [
    "### Algorithm to calculate the optimal Checkpointing Configuration using empirical method based on the memory profiled in previous step.\n",
    "\n",
    "def check(mid, array, n, K): \n",
    "    count = 0\n",
    "    sum = 0\n",
    "    initial_pass_memory = 0\n",
    "    checkpoint_indices = []\n",
    "    for i in range(n): \n",
    "          \n",
    "        # If individual element is greater maximum possible sum \n",
    "        if (array[i] > mid): \n",
    "            return False, initial_pass_memory, checkpoint_indices\n",
    "  \n",
    "        # Increase sum of current sub - array \n",
    "        sum += array[i] \n",
    "  \n",
    "        # If the sum is greater than mid increase count \n",
    "        if (sum > mid): \n",
    "            count += 1\n",
    "            checkpoint_indices.append(i)\n",
    "            sum = 0\n",
    "            initial_pass_memory += array[i]\n",
    "    count += 1\n",
    "  \n",
    "    # Check condition \n",
    "    if (count <= K): return True, initial_pass_memory, checkpoint_indices\n",
    "    return False, initial_pass_memory, checkpoint_indices\n",
    "  \n",
    "# Function to find maximum subarray sum which is minimum \n",
    "def solve(array, n, K): \n",
    "    start = 1\n",
    "    end = 0\n",
    "  \n",
    "    for i in range(n): \n",
    "        end += array[i] \n",
    "  \n",
    "    # Answer stores possible maximum sub array sum \n",
    "    answer = 0\n",
    "    optimal_initial_pass_memory = 0\n",
    "    optimal_checkpoint_indices = []\n",
    "    while (start <= end): \n",
    "        mid = (start + end) // 2\n",
    "  \n",
    "        # If mid is possible solution Put answer = mid; \n",
    "        boolean, initial_pass_memory, checkpoint_indices = check(mid, array, n, K)\n",
    "        if boolean: \n",
    "            answer = mid \n",
    "            optimal_initial_pass_memory = initial_pass_memory\n",
    "            optimal_checkpoint_indices = checkpoint_indices\n",
    "            end = mid - 1\n",
    "        else: \n",
    "            start = mid + 1\n",
    "  \n",
    "    return answer, optimal_initial_pass_memory, checkpoint_indices\n",
    "\n",
    "def get_optimal_checkpoint_config(memory_list, verbose=False):\n",
    "\n",
    "    array = memory_list\n",
    "    n = len(array)\n",
    "    min_memory = -1\n",
    "    min_config = None\n",
    "\n",
    "    ### NOTE: n_checkpoints is the maximum no. of checkpoints that can be used\n",
    "    for n_checkpoints in range(1,n):\n",
    "        max_segment_memory, optimal_initial_pass_memory, optimal_checkpoint_indices = solve(array, n, n_checkpoints)\n",
    "        total_memory = max_segment_memory + optimal_initial_pass_memory\n",
    "        if (total_memory==0) or (max_segment_memory==0):continue\n",
    "        if (min_memory==-1) or (total_memory<min_memory):\n",
    "            min_memory=total_memory\n",
    "            min_config = {  'max_segment_memory':max_segment_memory,\n",
    "                            'optimal_initial_pass_memory':optimal_initial_pass_memory,\n",
    "                            'total_memory':total_memory,\n",
    "                            'n_checkpoints':n_checkpoints,\n",
    "                            'optimal_checkpoint_indices':optimal_checkpoint_indices }\n",
    "\n",
    "        if verbose:\n",
    "            print('\\nn_checkpoints =',n_checkpoints)\n",
    "            print('max_segment_memory + optimal_initial_pass_memory =',round(max_segment_memory,1),'+',round(optimal_initial_pass_memory,1),'=',round(max_segment_memory+optimal_initial_pass_memory,1))\n",
    "            print('Checkpoint indices=',optimal_checkpoint_indices)\n",
    "\n",
    "    return min_config\n",
    "\n",
    "min_config = get_optimal_checkpoint_config(memory_list, verbose=True)"
   ]
  },
  {
   "cell_type": "code",
   "execution_count": 11,
   "metadata": {},
   "outputs": [
    {
     "output_type": "stream",
     "name": "stdout",
     "text": [
      "Checkpointing Configuration:\n{'max_segment_memory': 155.0, 'optimal_initial_pass_memory': 324.80000000000007, 'total_memory': 479.80000000000007, 'n_checkpoints': 10, 'optimal_checkpoint_indices': [4, 7, 11, 15, 19, 26, 34, 48, 61]}\n"
     ]
    }
   ],
   "source": [
    "print('Checkpointing Configuration:')\n",
    "print(min_config)"
   ]
  },
  {
   "cell_type": "code",
   "execution_count": 23,
   "metadata": {},
   "outputs": [
    {
     "output_type": "stream",
     "name": "stdout",
     "text": [
      "Segment: 1\nLayer =  self.conv1(a) , Memory = 49.9\nLayer =  self.b1(out) , Memory = 49.4\nLayer =  self.relu1(out) , Memory = 0.1\nLayer =  self.conv20(out) , Memory = 49.2\n\n\nSegment: 2\nLayer =  self.b20(out) , Memory = 49.0\nLayer =  self.relu20(out) , Memory = 49.0\nLayer =  self.conv21(out) , Memory = 98.2\n\n\nSegment: 3\nLayer =  self.b21(out) , Memory = 98.0\nLayer =  self.relu21(out) , Memory = 98.0\nLayer =  self.conv30(out) , Memory = 24.6\nLayer =  self.b30(out) , Memory = 24.5\n\n\nSegment: 4\nLayer =  self.relu30(out) , Memory = 24.5\nLayer =  self.conv31(out) , Memory = 49.2\nLayer =  self.b31(out) , Memory = 49.0\nLayer =  self.relu31(out) , Memory = 49.0\n\n\nSegment: 5\nLayer =  self.conv40(out) , Memory = 49.1\nLayer =  self.b40(out) , Memory = 49.0\nLayer =  self.relu40(out) , Memory = 49.0\nLayer =  self.conv41(out) , Memory = 49.3\n\n\nSegment: 6\nLayer =  self.b41(out) , Memory = 49.0\nLayer =  self.relu41(out) , Memory = 49.0\nLayer =  self.conv50(out) , Memory = 12.4\nLayer =  self.b50(out) , Memory = 12.3\nLayer =  self.relu50(out) , Memory = 12.3\nLayer =  self.conv51(out) , Memory = 24.8\nLayer =  self.b51(out) , Memory = 24.5\n\n\nSegment: 7\nLayer =  self.relu51(out) , Memory = 24.5\nLayer =  self.conv60(out) , Memory = 24.6\nLayer =  self.b60(out) , Memory = 24.5\nLayer =  self.relu60(out) , Memory = 24.5\nLayer =  self.conv61(out) , Memory = 24.9\nLayer =  self.b61(out) , Memory = 24.5\nLayer =  self.relu61(out) , Memory = 24.5\nLayer =  self.conv70(out) , Memory = 6.2\n\n\nSegment: 8\nLayer =  self.b70(out) , Memory = 6.1\nLayer =  self.relu70(out) , Memory = 6.1\nLayer =  self.conv71(out) , Memory = 12.8\nLayer =  self.b71(out) , Memory = 12.3\nLayer =  self.relu71(out) , Memory = 12.3\nLayer =  self.conv80(out) , Memory = 12.4\nLayer =  self.b80(out) , Memory = 12.3\nLayer =  self.relu80(out) , Memory = 12.3\nLayer =  self.conv81(out) , Memory = 12.3\nLayer =  self.b81(out) , Memory = 12.3\nLayer =  self.relu81(out) , Memory = 12.3\nLayer =  self.conv90(out) , Memory = 12.3\nLayer =  self.b90(out) , Memory = 12.3\nLayer =  self.relu90(out) , Memory = 12.3\n\n\nSegment: 9\nLayer =  self.conv91(out) , Memory = 12.3\nLayer =  self.b91(out) , Memory = 12.3\nLayer =  self.relu91(out) , Memory = 12.3\nLayer =  self.conv100(out) , Memory = 12.3\nLayer =  self.b100(out) , Memory = 12.3\nLayer =  self.relu100(out) , Memory = 12.3\nLayer =  self.conv101(out) , Memory = 12.3\nLayer =  self.b101(out) , Memory = 12.3\nLayer =  self.relu101(out) , Memory = 12.3\nLayer =  self.conv110(out) , Memory = 12.3\nLayer =  self.b110(out) , Memory = 12.3\nLayer =  self.relu110(out) , Memory = 12.3\nLayer =  self.conv111(out) , Memory = 12.3\n\n\nSegment: 10\nLayer =  self.b111(out) , Memory = 12.3\nLayer =  self.relu111(out) , Memory = 12.3\nLayer =  self.conv120(out) , Memory = 12.3\nLayer =  self.b120(out) , Memory = 12.3\nLayer =  self.relu120(out) , Memory = 12.3\nLayer =  self.conv121(out) , Memory = 12.3\nLayer =  self.b121(out) , Memory = 12.3\nLayer =  self.relu121(out) , Memory = 12.3\nLayer =  self.conv130(out) , Memory = 3.1\nLayer =  self.b130(out) , Memory = 3.1\nLayer =  self.relu130(out) , Memory = 3.1\nLayer =  self.conv131(out) , Memory = 6.3\nLayer =  self.b131(out) , Memory = 6.1\nLayer =  self.relu131(out) , Memory = 6.1\nLayer =  self.conv140(out) , Memory = 6.2\nLayer =  self.b140(out) , Memory = 6.1\nLayer =  self.relu140(out) , Memory = 6.1\nLayer =  self.conv141(out) , Memory = 6.2\nLayer =  self.b141(out) , Memory = 6.1\nLayer =  self.relu141(out) , Memory = 6.1\nLayer =  self.avgpl(out) , Memory = 0.1\n\n\n"
     ]
    }
   ],
   "source": [
    "# Print the Layers in each segment for the optimal checkpointing configuration\n",
    "checkpoints = min_config['optimal_checkpoint_indices']\n",
    "# checkpoints = [5, 8, 14, 19, 28, 42, 59] # Enter manually here for any other configuration corresponding to different n_checkpoints\n",
    "\n",
    "start_index = 0\n",
    "for i, checkpoint in enumerate(checkpoints):\n",
    "    end_index = checkpoint\n",
    "    print('Segment:',i+1)\n",
    "    for layer, memory in zip(layer_list[start_index:end_index],memory_list[start_index:end_index]):\n",
    "        print('Layer =',layer,', Memory =',memory)\n",
    "    print('\\n')\n",
    "    start_index = end_index\n",
    "\n",
    "# Last Segment\n",
    "print('Segment:',len(checkpoints)+1)\n",
    "for layer, memory in zip(layer_list[start_index:],memory_list[start_index:]):\n",
    "    print('Layer =',layer,', Memory =',memory)\n",
    "print('\\n')"
   ]
  },
  {
   "cell_type": "code",
   "execution_count": null,
   "metadata": {},
   "outputs": [],
   "source": [
    "# NOTE: Distribute the layers of the Neural Network as above among different segments in Step3_Checkpointing_Neural_Network.py."
   ]
  }
 ]
}