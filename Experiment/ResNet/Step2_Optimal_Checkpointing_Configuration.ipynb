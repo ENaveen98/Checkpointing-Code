{
 "metadata": {
  "language_info": {
   "codemirror_mode": {
    "name": "ipython",
    "version": 3
   },
   "file_extension": ".py",
   "mimetype": "text/x-python",
   "name": "python",
   "nbconvert_exporter": "python",
   "pygments_lexer": "ipython3",
   "version": "3.8.6-final"
  },
  "orig_nbformat": 2,
  "kernelspec": {
   "name": "python3",
   "display_name": "Python 3",
   "language": "python"
  }
 },
 "nbformat": 4,
 "nbformat_minor": 2,
 "cells": [
  {
   "cell_type": "code",
   "execution_count": 3,
   "metadata": {
    "tags": []
   },
   "outputs": [],
   "source": [
    "f = open(\"memory_profiler.log\", \"r\")\n",
    "lines = [line.replace('\\x00','').replace('\\n','') for line in f.readlines()]\n",
    "for i,line in enumerate(lines):\n",
    "    if line.find('FORWARD PASS START') !=-1: start_index = i\n",
    "    if line.find('FORWARD PASS END') !=-1: end_index = i\n",
    "lines = lines[start_index+1:end_index]"
   ]
  },
  {
   "cell_type": "code",
   "execution_count": 4,
   "metadata": {},
   "outputs": [
    {
     "output_type": "stream",
     "name": "stdout",
     "text": [
      "[196.9, 196.3, 196.1, 147.2, 245.5, 49.0, 245.0, 49.0, 148.1, 24.5, 123.1, 24.5, 74.6, 12.3, 61.3, 12.3, 37.8, 6.1, 30.6, 6.1, 0.0]\n"
     ]
    }
   ],
   "source": [
    "memory_list = []\n",
    "for line in lines:\n",
    "    line = line[line.find('MiB')+3:]\n",
    "    line = line[:line.find('MiB')]\n",
    "    memory_list.append(float(line.strip()))\n",
    "print(memory_list)"
   ]
  },
  {
   "cell_type": "code",
   "execution_count": 5,
   "metadata": {},
   "outputs": [
    {
     "output_type": "stream",
     "name": "stdout",
     "text": [
      "[' self.conv1(x)', ' self.bn1(out)', ' self.relu1(out)', ' self.mp1(out)', ' self.bn3(self.conv3(self.relu2(self.bn2(self.conv2(out))))) + out # If we need to add residual after some layers all the layers inbetween are considered as a single layer, hence the expression is in a single line', ' self.relu2(out)', ' self.bn5(self.conv5(self.relu3(self.bn4(self.conv4(out))))) + out # If we need to add residual after some layers all the layers inbetween are considered as a single layer, hence the expression is in a single line', ' self.relu3(out)', ' self.bn7(self.conv7(self.relu4(self.bn6(self.conv6(out))))) + self.downsample20(out) # If we need to add residual after some layers all the layers inbetween are considered as a single layer, hence the expression is in a single line', ' self.relu4(out)', ' self.bn9(self.conv9(self.relu5(self.bn8(self.conv8(out))))) + out # If we need to add residual after some layers all the layers inbetween are considered as a single layer, hence the expression is in a single line', ' self.relu5(out)', ' self.bn11(self.conv11(self.relu6(self.bn10(self.conv10(out))))) + self.downsample30(out)  # If we need to add residual after some layers all the layers inbetween are considered as a single layer, hence the expression is in a single line', ' self.relu6(out)', ' self.bn13(self.conv13(self.relu7(self.bn12(self.conv12(out))))) + out # If we need to add residual after some layers all the layers inbetween are considered as a single layer, hence the expression is in a single line', ' self.relu7(out)', ' self.bn15(self.conv15(self.relu8(self.bn14(self.conv14(out))))) + self.downsample40(out)', ' self.relu8(out)', ' self.bn17(self.conv17(self.relu9(self.bn16(self.conv16(out))))) + out', ' self.relu9(out)', ' self.avgpool(out)']\n"
     ]
    }
   ],
   "source": [
    "layer_list = []\n",
    "for line in lines:\n",
    "    line = line[line.find('MiB')+3:]\n",
    "    layer_list.append(line.split('=')[1])\n",
    "print(layer_list)"
   ]
  },
  {
   "source": [
    "### Note: The output for the above two cells for your Neural Network should be as shown below\n",
    "### print(memory_list)\n",
    "\\[49.9, 49.4, 0.1, 49.2, 49.0, 49.0, 98.2, 98.0, 98.0, 24.6, 24.5, 24.5, 49.2, 49.0, 49.0, 49.1, 49.0, 49.0, 49.3, 49.0, 49.0, 12.4, 12.3, 12.3, 24.8, 24.5, 24.5, 24.6, 24.5, 24.5, 24.9, 24.5, 24.5, 6.2, 6.1, 6.1, 12.8, 12.3, 12.3, 12.4, 12.3, 12.3, 12.3, 12.3, 12.3, 12.3, 12.3, 12.3, 12.3, 12.3, 12.3, 12.3, 12.3, 12.3, 12.3, 12.3, 12.3, 12.3, 12.3, 12.3, 12.3, 12.3, 12.3, 12.3, 12.3, 12.3, 12.3, 12.3, 12.3, 3.1, 3.1, 3.1, 6.3, 6.1, 6.1, 6.2, 6.1, 6.1, 6.2, 6.1, 6.1, 0.1\\]\n",
    "### print(layer_list)\n",
    "\\[' self.conv1(a)', ' self.b1(out)', ' self.relu1(out)', ' self.conv20(out)', ' self.b20(out)', ' self.relu20(out)', ' self.conv21(out)', ' self.b21(out)', ' self.relu21(out)', ' self.conv30(out)', ' self.b30(out)', ' self.relu30(out)', ' self.conv31(out)', ' self.b31(out)', ' self.relu31(out)', ' self.conv40(out)', ' self.b40(out)', ' self.relu40(out)', ' self.conv41(out)', ' self.b41(out)', ' self.relu41(out)', ' self.conv50(out)', ' self.b50(out)', ' self.relu50(out)', ' self.conv51(out)', ' self.b51(out)', ' self.relu51(out)', ' self.conv60(out)', ' self.b60(out)', ' self.relu60(out)', ' self.conv61(out)', ' self.b61(out)', ' self.relu61(out)', ' self.conv70(out)', ' self.b70(out)', ' self.relu70(out)', ' self.conv71(out)', ' self.b71(out)', ' self.relu71(out)', ' self.conv80(out)', ' self.b80(out)', ' self.relu80(out)', ' self.conv81(out)', ' self.b81(out)', ' self.relu81(out)', ' self.conv90(out)', ' self.b90(out)', ' self.relu90(out)', ' self.conv91(out)', ' self.b91(out)', ' self.relu91(out)', ' self.conv100(out)', ' self.b100(out)', ' self.relu100(out)', ' self.conv101(out)', ' self.b101(out)', ' self.relu101(out)', ' self.conv110(out)', ' self.b110(out)', ' self.relu110(out)', ' self.conv111(out)', ' self.b111(out)', ' self.relu111(out)', ' self.conv120(out)', ' self.b120(out)', ' self.relu120(out)', ' self.conv121(out)', ' self.b121(out)', ' self.relu121(out)', ' self.conv130(out)', ' self.b130(out)', ' self.relu130(out)', ' self.conv131(out)', ' self.b131(out)', ' self.relu131(out)', ' self.conv140(out)', ' self.b140(out)', ' self.relu140(out)', ' self.conv141(out)', ' self.b141(out)', ' self.relu141(out)', ' self.avgpl(out)'\\]\n",
    "### If the file was not parsed properly or the output is not as expected please compile the memory_list and layer_list manually using the memory_profiler provided in Step1 or using any other technique."
   ],
   "cell_type": "markdown",
   "metadata": {}
  },
  {
   "cell_type": "code",
   "execution_count": 6,
   "metadata": {},
   "outputs": [
    {
     "output_type": "stream",
     "name": "stdout",
     "text": [
      "\nn_checkpoints = 2\nmax_segment_memory + optimal_initial_pass_memory = 905.0 + 245.5 = 1150.5\nCheckpoint indices= [4, 19]\n\nn_checkpoints = 3\nmax_segment_memory + optimal_initial_pass_memory = 590.0 + 295.3 = 885.3\nCheckpoint indices= [3, 8]\n\nn_checkpoints = 4\nmax_segment_memory + optimal_initial_pass_memory = 414.0 + 393.2 = 807.2\nCheckpoint indices= [2, 5, 8]\n\nn_checkpoints = 5\nmax_segment_memory + optimal_initial_pass_memory = 295.0 + 711.6 = 1006.6\nCheckpoint indices= [1, 3, 6, 10]\n\nn_checkpoints = 6\nmax_segment_memory + optimal_initial_pass_memory = 266.0 + 564.6 = 830.6\nCheckpoint indices= [1, 3, 5, 7, 10]\n\nn_checkpoints = 7\nmax_segment_memory + optimal_initial_pass_memory = 246.0 + 595.2 = 841.2\nCheckpoint indices= [1, 3, 5, 7, 10, 18]\n\nn_checkpoints = 8\nmax_segment_memory + optimal_initial_pass_memory = 246.0 + 595.2 = 841.2\nCheckpoint indices= [1, 3, 5, 7, 10, 18]\n\nn_checkpoints = 9\nmax_segment_memory + optimal_initial_pass_memory = 246.0 + 595.2 = 841.2\nCheckpoint indices= [1, 3, 5, 7, 10, 18]\n\nn_checkpoints = 10\nmax_segment_memory + optimal_initial_pass_memory = 246.0 + 595.2 = 841.2\nCheckpoint indices= [1, 3, 5, 7, 10, 18]\n\nn_checkpoints = 11\nmax_segment_memory + optimal_initial_pass_memory = 246.0 + 595.2 = 841.2\nCheckpoint indices= [1, 3, 5, 7, 10, 18]\n\nn_checkpoints = 12\nmax_segment_memory + optimal_initial_pass_memory = 246.0 + 595.2 = 841.2\nCheckpoint indices= [1, 3, 5, 7, 10, 18]\n\nn_checkpoints = 13\nmax_segment_memory + optimal_initial_pass_memory = 246.0 + 595.2 = 841.2\nCheckpoint indices= [1, 3, 5, 7, 10, 18]\n\nn_checkpoints = 14\nmax_segment_memory + optimal_initial_pass_memory = 246.0 + 595.2 = 841.2\nCheckpoint indices= [1, 3, 5, 7, 10, 18]\n\nn_checkpoints = 15\nmax_segment_memory + optimal_initial_pass_memory = 246.0 + 595.2 = 841.2\nCheckpoint indices= [1, 3, 5, 7, 10, 18]\n\nn_checkpoints = 16\nmax_segment_memory + optimal_initial_pass_memory = 246.0 + 595.2 = 841.2\nCheckpoint indices= [1, 3, 5, 7, 10, 18]\n\nn_checkpoints = 17\nmax_segment_memory + optimal_initial_pass_memory = 246.0 + 595.2 = 841.2\nCheckpoint indices= [1, 3, 5, 7, 10, 18]\n\nn_checkpoints = 18\nmax_segment_memory + optimal_initial_pass_memory = 246.0 + 595.2 = 841.2\nCheckpoint indices= [1, 3, 5, 7, 10, 18]\n\nn_checkpoints = 19\nmax_segment_memory + optimal_initial_pass_memory = 246.0 + 595.2 = 841.2\nCheckpoint indices= [1, 3, 5, 7, 10, 18]\n\nn_checkpoints = 20\nmax_segment_memory + optimal_initial_pass_memory = 246.0 + 595.2 = 841.2\nCheckpoint indices= [1, 3, 5, 7, 10, 18]\n"
     ]
    }
   ],
   "source": [
    "### Algorithm to calculate the optimal Checkpointing Configuration using empirical method based on the memory profiled in previous step.\n",
    "\n",
    "def check(mid, array, n, K): \n",
    "    count = 0\n",
    "    sum = 0\n",
    "    initial_pass_memory = 0\n",
    "    checkpoint_indices = []\n",
    "    for i in range(n): \n",
    "          \n",
    "        # If individual element is greater maximum possible sum \n",
    "        if (array[i] > mid): \n",
    "            return False, initial_pass_memory, checkpoint_indices\n",
    "  \n",
    "        # Increase sum of current sub - array \n",
    "        sum += array[i] \n",
    "  \n",
    "        # If the sum is greater than mid increase count \n",
    "        if (sum > mid): \n",
    "            count += 1\n",
    "            checkpoint_indices.append(i)\n",
    "            sum = 0\n",
    "            initial_pass_memory += array[i]\n",
    "    count += 1\n",
    "  \n",
    "    # Check condition \n",
    "    if (count <= K): return True, initial_pass_memory, checkpoint_indices\n",
    "    return False, initial_pass_memory, checkpoint_indices\n",
    "  \n",
    "# Function to find maximum subarray sum which is minimum \n",
    "def solve(array, n, K): \n",
    "    start = 1\n",
    "    end = 0\n",
    "  \n",
    "    for i in range(n): \n",
    "        end += array[i] \n",
    "  \n",
    "    # Answer stores possible maximum sub array sum \n",
    "    answer = 0\n",
    "    optimal_initial_pass_memory = 0\n",
    "    optimal_checkpoint_indices = []\n",
    "    while (start <= end): \n",
    "        mid = (start + end) // 2\n",
    "  \n",
    "        # If mid is possible solution Put answer = mid; \n",
    "        boolean, initial_pass_memory, checkpoint_indices = check(mid, array, n, K)\n",
    "        if boolean: \n",
    "            answer = mid \n",
    "            optimal_initial_pass_memory = initial_pass_memory\n",
    "            optimal_checkpoint_indices = checkpoint_indices\n",
    "            end = mid - 1\n",
    "        else: \n",
    "            start = mid + 1\n",
    "  \n",
    "    return answer, optimal_initial_pass_memory, checkpoint_indices\n",
    "\n",
    "def get_optimal_checkpoint_config(memory_list, verbose=False):\n",
    "\n",
    "    array = memory_list\n",
    "    n = len(array)\n",
    "    min_memory = -1\n",
    "    min_config = None\n",
    "\n",
    "    ### NOTE: n_checkpoints is the maximum no. of checkpoints that can be used\n",
    "    for n_checkpoints in range(1,n):\n",
    "        max_segment_memory, optimal_initial_pass_memory, optimal_checkpoint_indices = solve(array, n, n_checkpoints)\n",
    "        total_memory = max_segment_memory + optimal_initial_pass_memory\n",
    "        if (total_memory==0) or (max_segment_memory==0):continue\n",
    "        if (min_memory==-1) or (total_memory<min_memory):\n",
    "            min_memory=total_memory\n",
    "            min_config = {  'max_segment_memory':max_segment_memory,\n",
    "                            'optimal_initial_pass_memory':optimal_initial_pass_memory,\n",
    "                            'total_memory':total_memory,\n",
    "                            'n_checkpoints':n_checkpoints,\n",
    "                            'optimal_checkpoint_indices':optimal_checkpoint_indices }\n",
    "\n",
    "        if verbose:\n",
    "            print('\\nn_checkpoints =',n_checkpoints)\n",
    "            print('max_segment_memory + optimal_initial_pass_memory =',round(max_segment_memory,1),'+',round(optimal_initial_pass_memory,1),'=',round(max_segment_memory+optimal_initial_pass_memory,1))\n",
    "            print('Checkpoint indices=',optimal_checkpoint_indices)\n",
    "\n",
    "    return min_config\n",
    "\n",
    "min_config = get_optimal_checkpoint_config(memory_list, verbose=True)"
   ]
  },
  {
   "cell_type": "code",
   "execution_count": 7,
   "metadata": {},
   "outputs": [
    {
     "output_type": "stream",
     "name": "stdout",
     "text": [
      "Checkpointing Configuration:\n{'max_segment_memory': 414.0, 'optimal_initial_pass_memory': 393.2, 'total_memory': 807.2, 'n_checkpoints': 4, 'optimal_checkpoint_indices': [2, 5, 8]}\n"
     ]
    }
   ],
   "source": [
    "print('Checkpointing Configuration:')\n",
    "print(min_config)"
   ]
  },
  {
   "cell_type": "code",
   "execution_count": 9,
   "metadata": {},
   "outputs": [
    {
     "output_type": "stream",
     "name": "stdout",
     "text": [
      "Segment: 1\nLayer =  self.conv1(x) , Memory = 196.9\nLayer =  self.bn1(out) , Memory = 196.3\n\n\nSegment: 2\nLayer =  self.relu1(out) , Memory = 196.1\nLayer =  self.mp1(out) , Memory = 147.2\nLayer =  self.bn3(self.conv3(self.relu2(self.bn2(self.conv2(out))))) + out # If we need to add residual after some layers all the layers inbetween are considered as a single layer, hence the expression is in a single line , Memory = 245.5\n\n\nSegment: 3\nLayer =  self.relu2(out) , Memory = 49.0\nLayer =  self.bn5(self.conv5(self.relu3(self.bn4(self.conv4(out))))) + out # If we need to add residual after some layers all the layers inbetween are considered as a single layer, hence the expression is in a single line , Memory = 245.0\nLayer =  self.relu3(out) , Memory = 49.0\n\n\nSegment: 4\nLayer =  self.bn7(self.conv7(self.relu4(self.bn6(self.conv6(out))))) + self.downsample20(out) # If we need to add residual after some layers all the layers inbetween are considered as a single layer, hence the expression is in a single line , Memory = 148.1\nLayer =  self.relu4(out) , Memory = 24.5\nLayer =  self.bn9(self.conv9(self.relu5(self.bn8(self.conv8(out))))) + out # If we need to add residual after some layers all the layers inbetween are considered as a single layer, hence the expression is in a single line , Memory = 123.1\nLayer =  self.relu5(out) , Memory = 24.5\nLayer =  self.bn11(self.conv11(self.relu6(self.bn10(self.conv10(out))))) + self.downsample30(out)  # If we need to add residual after some layers all the layers inbetween are considered as a single layer, hence the expression is in a single line , Memory = 74.6\nLayer =  self.relu6(out) , Memory = 12.3\nLayer =  self.bn13(self.conv13(self.relu7(self.bn12(self.conv12(out))))) + out # If we need to add residual after some layers all the layers inbetween are considered as a single layer, hence the expression is in a single line , Memory = 61.3\nLayer =  self.relu7(out) , Memory = 12.3\nLayer =  self.bn15(self.conv15(self.relu8(self.bn14(self.conv14(out))))) + self.downsample40(out) , Memory = 37.8\nLayer =  self.relu8(out) , Memory = 6.1\nLayer =  self.bn17(self.conv17(self.relu9(self.bn16(self.conv16(out))))) + out , Memory = 30.6\nLayer =  self.relu9(out) , Memory = 6.1\nLayer =  self.avgpool(out) , Memory = 0.0\n\n\n"
     ]
    }
   ],
   "source": [
    "# Print the Layers in each segment for the optimal checkpointing configuration\n",
    "checkpoints = min_config['optimal_checkpoint_indices']\n",
    "# checkpoints = [2, 5, 8] # Enter manually here for any other configuration corresponding to different n_checkpoints\n",
    "\n",
    "start_index = 0\n",
    "for i, checkpoint in enumerate(checkpoints):\n",
    "    end_index = checkpoint\n",
    "    print('Segment:',i+1)\n",
    "    for layer, memory in zip(layer_list[start_index:end_index],memory_list[start_index:end_index]):\n",
    "        print('Layer =',layer,', Memory =',memory)\n",
    "    print('\\n')\n",
    "    start_index = end_index\n",
    "\n",
    "# Last Segment\n",
    "print('Segment:',len(checkpoints)+1)\n",
    "for layer, memory in zip(layer_list[start_index:],memory_list[start_index:]):\n",
    "    print('Layer =',layer,', Memory =',memory)\n",
    "print('\\n')"
   ]
  },
  {
   "cell_type": "code",
   "execution_count": null,
   "metadata": {},
   "outputs": [],
   "source": [
    "# NOTE: Distribute the layers of the Neural Network as above among different segments in Step3_Checkpointing_Neural_Network.py."
   ]
  },
  {
   "cell_type": "code",
   "execution_count": 10,
   "metadata": {},
   "outputs": [
    {
     "output_type": "stream",
     "name": "stdout",
     "text": [
      "Segment: 1\nLayer =  self.conv1(x) , Memory = 196.9\n\n\nSegment: 2\nLayer =  self.bn1(out) , Memory = 196.3\nLayer =  self.relu1(out) , Memory = 196.1\n\n\nSegment: 3\nLayer =  self.mp1(out) , Memory = 147.2\nLayer =  self.bn3(self.conv3(self.relu2(self.bn2(self.conv2(out))))) + out # If we need to add residual after some layers all the layers inbetween are considered as a single layer, hence the expression is in a single line , Memory = 245.5\n\n\nSegment: 4\nLayer =  self.relu2(out) , Memory = 49.0\nLayer =  self.bn5(self.conv5(self.relu3(self.bn4(self.conv4(out))))) + out # If we need to add residual after some layers all the layers inbetween are considered as a single layer, hence the expression is in a single line , Memory = 245.0\n\n\nSegment: 5\nLayer =  self.relu3(out) , Memory = 49.0\nLayer =  self.bn7(self.conv7(self.relu4(self.bn6(self.conv6(out))))) + self.downsample20(out) # If we need to add residual after some layers all the layers inbetween are considered as a single layer, hence the expression is in a single line , Memory = 148.1\nLayer =  self.relu4(out) , Memory = 24.5\n\n\nSegment: 6\nLayer =  self.bn9(self.conv9(self.relu5(self.bn8(self.conv8(out))))) + out # If we need to add residual after some layers all the layers inbetween are considered as a single layer, hence the expression is in a single line , Memory = 123.1\nLayer =  self.relu5(out) , Memory = 24.5\nLayer =  self.bn11(self.conv11(self.relu6(self.bn10(self.conv10(out))))) + self.downsample30(out)  # If we need to add residual after some layers all the layers inbetween are considered as a single layer, hence the expression is in a single line , Memory = 74.6\nLayer =  self.relu6(out) , Memory = 12.3\nLayer =  self.bn13(self.conv13(self.relu7(self.bn12(self.conv12(out))))) + out # If we need to add residual after some layers all the layers inbetween are considered as a single layer, hence the expression is in a single line , Memory = 61.3\nLayer =  self.relu7(out) , Memory = 12.3\nLayer =  self.bn15(self.conv15(self.relu8(self.bn14(self.conv14(out))))) + self.downsample40(out) , Memory = 37.8\nLayer =  self.relu8(out) , Memory = 6.1\nLayer =  self.bn17(self.conv17(self.relu9(self.bn16(self.conv16(out))))) + out , Memory = 30.6\nLayer =  self.relu9(out) , Memory = 6.1\nLayer =  self.avgpool(out) , Memory = 0.0\n\n\n"
     ]
    }
   ],
   "source": [
    "# Print the Layers in each segment for the optimal checkpointing configuration\n",
    "# checkpoints = min_config['optimal_checkpoint_indices']\n",
    "checkpoints = [1, 3, 5, 7, 10] # Enter manually here for any other configuration corresponding to different n_checkpoints\n",
    "\n",
    "start_index = 0\n",
    "for i, checkpoint in enumerate(checkpoints):\n",
    "    end_index = checkpoint\n",
    "    print('Segment:',i+1)\n",
    "    for layer, memory in zip(layer_list[start_index:end_index],memory_list[start_index:end_index]):\n",
    "        print('Layer =',layer,', Memory =',memory)\n",
    "    print('\\n')\n",
    "    start_index = end_index\n",
    "\n",
    "# Last Segment\n",
    "print('Segment:',len(checkpoints)+1)\n",
    "for layer, memory in zip(layer_list[start_index:],memory_list[start_index:]):\n",
    "    print('Layer =',layer,', Memory =',memory)\n",
    "print('\\n')"
   ]
  },
  {
   "cell_type": "code",
   "execution_count": null,
   "metadata": {},
   "outputs": [],
   "source": [
    "# NOTE: Distribute the layers of the Neural Network as above among different segments in Step3_Checkpointing_Neural_Network.py."
   ]
  }
 ]
}